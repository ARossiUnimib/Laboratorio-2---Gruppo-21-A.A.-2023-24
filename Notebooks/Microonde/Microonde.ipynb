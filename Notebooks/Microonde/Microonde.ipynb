{
 "cells": [
  {
   "cell_type": "markdown",
   "metadata": {},
   "source": [
    "# Esperienza Microonde"
   ]
  },
  {
   "cell_type": "markdown",
   "metadata": {},
   "source": [
    "### Utility per propagazione errore"
   ]
  },
  {
   "cell_type": "code",
   "execution_count": 17,
   "metadata": {},
   "outputs": [
    {
     "name": "stdout",
     "output_type": "stream",
     "text": [
      "(3, 0.4472135954999579)\n"
     ]
    }
   ],
   "source": [
    "import sympy \n",
    "import numpy as np\n",
    "\n",
    "def generate_error_propagation(function, variables):\n",
    "    symbols = sympy.symbols(variables)\n",
    "    cov_symbols = sympy.symbols(' '.join([f'cov_{i}' for i in range(len(variables))]))\n",
    "    sum_diff = sympy.sqrt(sum(function.diff(s) ** 2 * c for s, c in zip(symbols, cov_symbols)))\n",
    "    sum_diff = sum_diff.simplify()\n",
    "\n",
    "    values = sympy.lambdify(symbols, function)\n",
    "    covariance = sympy.lambdify(symbols + cov_symbols, sum_diff)\n",
    "\n",
    "    def fn(**kwargs):\n",
    "        x = tuple(v[0] for v in kwargs.values())\n",
    "        c = tuple(v[1] for v in kwargs.values())\n",
    "        return values(*x), covariance(*x, *c)\n",
    "\n",
    "    return fn\n",
    "\n",
    "def error_propagation(function, **kwargs):\n",
    "    value, error = generate_error_propagation(function, tuple(kwargs))(**kwargs)\n",
    "    return value, error\n",
    "\n",
    "# test\n",
    "x, y = sympy.symbols('x y')\n",
    "f = x + y\n",
    "print(error_propagation(f, x=(1, 0.1), y=(2, 0.1)))"
   ]
  },
  {
   "cell_type": "markdown",
   "metadata": {},
   "source": [
    "## Caratterizzazione del fascio\n",
    "\n",
    "### Legge di Malus / Polarizzazione"
   ]
  },
  {
   "cell_type": "code",
   "execution_count": 19,
   "metadata": {},
   "outputs": [
    {
     "data": {
      "text/latex": [
       "$\\displaystyle I_{0} \\cos^{2}{\\left(α \\right)}$"
      ],
      "text/plain": [
       "I_0*cos(α)**2"
      ]
     },
     "metadata": {},
     "output_type": "display_data"
    }
   ],
   "source": [
    "# alfa letter: α\n",
    "I_0, alfa = sympy.symbols('I_0 α')\n",
    "I = I_0 * sympy.cos(alfa) ** 2\n",
    "display(I)\n",
    "\n"
   ]
  },
  {
   "cell_type": "markdown",
   "metadata": {},
   "source": [
    "### Ampiezza\n",
    "\n",
    "1. Studiare dipendenza ampiezza dall'angolo\n",
    "2. Studiare dipendenza ampiezza dalla distanza"
   ]
  },
  {
   "cell_type": "code",
   "execution_count": null,
   "metadata": {},
   "outputs": [],
   "source": []
  },
  {
   "cell_type": "markdown",
   "metadata": {},
   "source": [
    "### Geometria"
   ]
  },
  {
   "cell_type": "markdown",
   "metadata": {},
   "source": [
    "## Angolo di Brewster"
   ]
  },
  {
   "cell_type": "markdown",
   "metadata": {},
   "source": [
    "## Interferenza\n",
    "\n",
    "Studiare almeno due casi (per la valutazione ne vengono utilizzati due)"
   ]
  },
  {
   "cell_type": "markdown",
   "metadata": {},
   "source": [
    "## Diffrazione di Bragg"
   ]
  },
  {
   "cell_type": "code",
   "execution_count": 21,
   "metadata": {},
   "outputs": [
    {
     "data": {
      "text/latex": [
       "$\\displaystyle n λ = 2 d \\sin{\\left(θ \\right)}$"
      ],
      "text/plain": [
       "Eq(n*λ, 2*d*sin(θ))"
      ]
     },
     "execution_count": 21,
     "metadata": {},
     "output_type": "execute_result"
    }
   ],
   "source": [
    "# write equation in sympy\n",
    "# n*lambda = 2*d*sin(alfa)\n",
    "n, lambda_, d, theta = sympy.symbols('n λ d θ')\n",
    "eq = sympy.Eq(n * lambda_, 2 * d * sympy.sin(theta))\n",
    "eq"
   ]
  }
 ],
 "metadata": {
  "kernelspec": {
   "display_name": "Python 3",
   "language": "python",
   "name": "python3"
  },
  "language_info": {
   "codemirror_mode": {
    "name": "ipython",
    "version": 3
   },
   "file_extension": ".py",
   "mimetype": "text/x-python",
   "name": "python",
   "nbconvert_exporter": "python",
   "pygments_lexer": "ipython3",
   "version": "3.12.2"
  }
 },
 "nbformat": 4,
 "nbformat_minor": 2
}
